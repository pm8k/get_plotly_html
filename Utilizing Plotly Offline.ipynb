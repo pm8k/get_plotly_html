{
 "cells": [
  {
   "cell_type": "markdown",
   "metadata": {},
   "source": [
    "# Generating HTML for Plotly utilizing the Python API"
   ]
  },
  {
   "cell_type": "markdown",
   "metadata": {},
   "source": [
    "Plotly has open sourced their javascript code! However, the functionality in their Python API has seen very minimal changes.  The only addition has been an inclusion for offline mode for ipython notebooks. I started with a tutorial found on reddit which easily outlines how to get this working in IPython, linked here:\n",
    " - https://www.reddit.com/r/IPython/comments/3tibc8/tip_on_how_to_run_plotly_examples_in_offline_mode/\n",
    "\n",
    "After getting this example working, I delved into the offline source code to figure out how the HTML is being generated and displayed.  Fortunately, everything in the offline library has the tools we need to get the html we need, the javascript behind it, and with a little searching, eliminating the linking to the plotly servers (when you don't want to upload your data!)\n",
    "\n",
    "All of the code we're modifying is found here:\n",
    " - https://github.com/plotly/plotly.py/tree/master/plotly/offline"
   ]
  },
  {
   "cell_type": "markdown",
   "metadata": {},
   "source": [
    "## Let's look at the IPython plotting function"
   ]
  },
  {
   "cell_type": "markdown",
   "metadata": {},
   "source": [
    "The main plotting function, iplot is found in offline.py.  I've annotated the code below into sections to breakdown what this function is doing, and what we can pull from it."
   ]
  },
  {
   "cell_type": "code",
   "execution_count": 2,
   "metadata": {
    "collapsed": true
   },
   "outputs": [],
   "source": [
    "def iplot(figure_or_data, show_link=True, link_text='Export to plot.ly',\n",
    "          validate=True):\n",
    "    \n",
    "    ########################################\n",
    "    # Documentation\n and important instruction",
    "    ########################################\n",
    "    \n",
    "    # Here is the description of the function, and an example how to use it\n",
    "    \"\"\"\n",
    "    Draw plotly graphs inside an IPython notebook without\n",
    "    connecting to an external server.\n",
    "    To save the chart to Plotly Cloud or Plotly Enterprise, use\n",
    "    `plotly.plotly.iplot`.\n",
    "    To embed an image of the chart, use `plotly.image.ishow`.\n",
    "    figure_or_data -- a plotly.graph_objs.Figure or plotly.graph_objs.Data or\n",
    "                      dict or list that describes a Plotly graph.\n",
    "                      See https://plot.ly/python/ for examples of\n",
    "                      graph descriptions.\n",
    "    Keyword arguments:\n",
    "    show_link (default=True) -- display a link in the bottom-right corner of\n",
    "                                of the chart that will export the chart to\n",
    "                                Plotly Cloud or Plotly Enterprise\n",
    "    link_text (default='Export to plot.ly') -- the text of export link\n",
    "    validate (default=True) -- validate that all of the keys in the figure\n",
    "                               are valid? omit if your version of plotly.js\n",
    "                               has become outdated with your version of\n",
    "                               graph_reference.json or if you need to include\n",
    "                               extra, unnecessary keys in your figure.\n",
    "    Example:\n",
    "    ```\n",
    "    from plotly.offline import init_notebook_mode, iplot\n",
    "    init_notebook_mode()\n",
    "    iplot([{'x': [1, 2, 3], 'y': [5, 2, 7]}])\n",
    "    ```\n",
    "    \"\"\"\n",
    "    ########################################\n",
    "    # IPython Check\n",
    "    ########################################\n",
    "    \n",
    "    # These are some functions to ensure the user is using ipython notebook\n",
    "    \n",
    "    if not __PLOTLY_OFFLINE_INITIALIZED:\n",
    "        raise PlotlyError('\\n'.join([\n",
    "            'Plotly Offline mode has not been initialized in this notebook. '\n",
    "            'Run: ',\n",
    "            '',\n",
    "            'import plotly',\n",
    "            'plotly.offline.init_notebook_mode() '\n",
    "            '# run at the start of every ipython notebook',\n",
    "        ]))\n",
    "    if not tools._ipython_imported:\n",
    "        raise ImportError('`iplot` can only run inside an IPython Notebook.')\n",
    "\n",
    "        \n",
    "    ########################################\n",
    "    # Setup Parameters\n",
    "    ########################################    \n",
    "    \n",
    "    # This sets up default values to use for the plot\n",
    "    \n",
    "    from IPython.display import HTML, display\n",
    "    figure = tools.return_figure_from_figure_or_data(figure_or_data, validate)\n",
    "\n",
    "    width = figure.get('layout', {}).get('width', '100%')\n",
    "    height = figure.get('layout', {}).get('height', 525)\n",
    "    try:\n",
    "        float(width)\n",
    "    except (ValueError, TypeError):\n",
    "        pass\n",
    "    else:\n",
    "        width = str(width) + 'px'\n",
    "\n",
    "    try:\n",
    "        float(width)\n",
    "    except (ValueError, TypeError):\n",
    "        pass\n",
    "    else:\n",
    "        width = str(width) + 'px'\n",
    "\n",
    "    plotdivid = uuid.uuid4()\n",
    "    jdata = json.dumps(figure.get('data', []), cls=utils.PlotlyJSONEncoder)\n",
    "    jlayout = json.dumps(figure.get('layout', {}), cls=utils.PlotlyJSONEncoder)\n",
    "    \n",
    "    ########################################\n",
    "    # Config the link for exporting to plotly below plot\n",
    "    ########################################\n",
    "    \n",
    "    # Creates the hyper link to export the data and open in plotly's website\n",
    "    \n",
    "    config = {}\n",
    "    config['showLink'] = show_link\n",
    "    config['linkText'] = link_text\n",
    "    jconfig = json.dumps(config)\n",
    "\n",
    "    plotly_platform_url = session.get_session_config().get('plotly_domain',\n",
    "                                                           'https://plot.ly')\n",
    "    if (plotly_platform_url != 'https://plot.ly' and\n",
    "            link_text == 'Export to plot.ly'):\n",
    "\n",
    "        link_domain = plotly_platform_url\\\n",
    "            .replace('https://', '')\\\n",
    "            .replace('http://', '')\n",
    "        link_text = link_text.replace('plot.ly', link_domain)\n",
    "        \n",
    "    ########################################\n",
    "    # Not Sure what this does?\n",
    "    ########################################\n",
    "    \n",
    "    # I think this creates the html to display the plotly url?\n",
    "    \n",
    "    display(HTML(\n",
    "        '<script type=\"text/javascript\">'\n",
    "        'window.PLOTLYENV=window.PLOTLYENV || {};'\n",
    "        'window.PLOTLYENV.BASE_URL=\"' + plotly_platform_url + '\";'\n",
    "        '</script>'\n",
    "    ))\n",
    "    \n",
    "    ########################################\n",
    "    # Generate Javascript\n",
    "    ########################################\n",
    "    \n",
    "    # Create a string of javascript from the id, data, layout, and configuration\n",
    "    script = '\\n'.join([\n",
    "        'Plotly.plot(\"{id}\", {data}, {layout}, {config}).then(function() {{',\n",
    "        '    $(\".{id}.loading\").remove();',\n",
    "        '}})'\n",
    "    ]).format(id=plotdivid,\n",
    "              data=jdata,\n",
    "              layout=jlayout,\n",
    "              config=jconfig)\n",
    "    ########################################\n",
    "    # Display HTML\n",
    "    ########################################\n",
    "    \n",
    "    #using ipython's display and HTML functions, we pass in the html and javascript to display in the notebook\n",
    "    \n",
    "    display(HTML(''\n",
    "                 '<div class=\"{id} loading\" style=\"color: rgb(50,50,50);\">'\n",
    "                 'Drawing...</div>'\n",
    "                 '<div id=\"{id}\" style=\"height: {height}; width: {width};\" '\n",
    "                 'class=\"plotly-graph-div\">'\n",
    "                 '</div>'\n",
    "                 '<script type=\"text/javascript\">'\n",
    "                 '{script}'\n",
    "                 '</script>'\n",
    "                 ''.format(id=plotdivid, script=script,\n",
    "                           height=height, width=width)))"
   ]
  },
  {
   "cell_type": "markdown",
   "metadata": {},
   "source": [
    "This function has everything we need to display how to generate the plot in the ipython notebook.  It generates html and javascript, which is then embedded into the ipython notebook. All we need to do now is get this html and javascript and embed it into our own webpages!"
   ]
  },
  {
   "cell_type": "markdown",
   "metadata": {},
   "source": [
    "## Alright, let's get everything we need to run everything offline"
   ]
  },
  {
   "cell_type": "markdown",
   "metadata": {},
   "source": [
    "### Getting the Plotly Javascript"
   ]
  },
  {
   "cell_type": "markdown",
   "metadata": {},
   "source": [
    "Plotly has given us two easy ways to get the plotly javascript.  They have a nice easy function you can call from offline, get_plotlyjs, listed below.  The file itself can also just be found in the offline repo listed at the beginning"
   ]
  },
  {
   "cell_type": "code",
   "execution_count": 1,
   "metadata": {
    "collapsed": true
   },
   "outputs": [],
   "source": [
    "def get_plotlyjs():\n",
    "    path = os.path.join('offline', 'plotly.min.js')\n",
    "    plotlyjs = resource_string('plotly', path).decode('utf-8')\n",
    "    return plotlyjs\n"
   ]
  },
  {
   "cell_type": "markdown",
   "metadata": {},
   "source": [
    "### Removing external link functionality"
   ]
  },
  {
   "cell_type": "markdown",
   "metadata": {},
   "source": [
    "If you are familiar with the plotly tooltip, there is a link at the top that saves your plot in the cloud so you can work on it there.  I'm not currently sure if this data is stored and made public or not, so on the safe side, we may want to remove this functionality from any plots we make.  In order to do this, we can replace the link that is used in the javascript. The link to search for is:\n",
    " - https://plot.ly\n",
    " \n",
    "The save icon links to https://plot.ly/external, with some string concatination in the script.  With some greater knowledge of javascript beyond what I have, you can create some dynamic links if you want to open a page with just the image.  For now, I simply replaced it with a null string, which tries to open /external, which should not resolve.  You can also replace it with 0.0.0.0 so it just looks locally."
   ]
  },
  {
   "cell_type": "markdown",
   "metadata": {},
   "source": [
    "### Redefining the iplot function"
   ]
  },
  {
   "cell_type": "markdown",
   "metadata": {},
   "source": [
    "We can leverage the iplot function, which has all of the functionality we need to generate the html we need.  Here is a modified version of it:"
   ]
  },
  {
   "cell_type": "code",
   "execution_count": 10,
   "metadata": {
    "collapsed": true
   },
   "outputs": [],
   "source": [
    "from plotly import session, tools, utils\n",
    "import uuid\n",
    "import json\n",
    "\n",
    "\n",
    "\n",
    "def new_iplot(figure_or_data, show_link=True, link_text='Export to plot.ly',\n",
    "          validate=True):\n",
    "\n",
    "    figure = tools.return_figure_from_figure_or_data(figure_or_data, validate)\n",
    "\n",
    "    width = figure.get('layout', {}).get('width', '100%')\n",
    "    height = figure.get('layout', {}).get('height', 525)\n",
    "    try:\n",
    "        float(width)\n",
    "    except (ValueError, TypeError):\n",
    "        pass\n",
    "    else:\n",
    "        width = str(width) + 'px'\n",
    "\n",
    "    try:\n",
    "        float(width)\n",
    "    except (ValueError, TypeError):\n",
    "        pass\n",
    "    else:\n",
    "        width = str(width) + 'px'\n",
    "\n",
    "    plotdivid = uuid.uuid4()\n",
    "    jdata = json.dumps(figure.get('data', []), cls=utils.PlotlyJSONEncoder)\n",
    "    jlayout = json.dumps(figure.get('layout', {}), cls=utils.PlotlyJSONEncoder)\n",
    "\n",
    "    config = {}\n",
    "    config['showLink'] = show_link\n",
    "    config['linkText'] = link_text\n",
    "    jconfig = json.dumps(config)\n",
    "\n",
    "    plotly_platform_url = session.get_session_config().get('plotly_domain',\n",
    "                                                           'https://plot.ly')\n",
    "    if (plotly_platform_url != 'https://plot.ly' and\n",
    "            link_text == 'Export to plot.ly'):\n",
    "\n",
    "        link_domain = plotly_platform_url\\\n",
    "            .replace('https://', '')\\\n",
    "            .replace('http://', '')\n",
    "        link_text = link_text.replace('plot.ly', link_domain)\n",
    "\n",
    "\n",
    "    script = '\\n'.join([\n",
    "        'Plotly.plot(\"{id}\", {data}, {layout}, {config}).then(function() {{',\n",
    "        '    $(\".{id}.loading\").remove();',\n",
    "        '}})'\n",
    "    ]).format(id=plotdivid,\n",
    "              data=jdata,\n",
    "              layout=jlayout,\n",
    "              config=jconfig)\n",
    "\n",
    "    html=\"\"\"<div class=\"{id} loading\" style=\"color: rgb(50,50,50);\">\n",
    "                 Drawing...</div>\n",
    "                 <div id=\"{id}\" style=\"height: {height}; width: {width};\" \n",
    "                 class=\"plotly-graph-div\">\n",
    "                 </div>\n",
    "                 <script type=\"text/javascript\">\n",
    "                 {script}\n",
    "                 </script>\n",
    "                 \"\"\".format(id=plotdivid, script=script,\n",
    "                           height=height, width=width)\n",
    "\n",
    "    return html"
   ]
  },
  {
   "cell_type": "markdown",
   "metadata": {},
   "source": [
    "The main changes made to this are:\n",
    " - Removed ipython notebook checks\n",
    " - Removed html displays, and simply generated html\n",
    "\n",
    "We now have all the tools we need!  One final note: When calling the new_iplot function, you will want to set show_link to False, to remove the second export link in the app.  Additionally, you may want to change the urls listed in the function to point the link wherever you want."
   ]
  },
  {
   "cell_type": "markdown",
   "metadata": {},
   "source": [
    "### Example on how to generate html"
   ]
  },
  {
   "cell_type": "markdown",
   "metadata": {},
   "source": [
    "All we have to do now is to pass in either data or a figure into our new_iplot function to generate the html! We can use any of the plotly functions.  Let's look at a scatter plot:"
   ]
  },
  {
   "cell_type": "code",
   "execution_count": 11,
   "metadata": {
    "collapsed": false
   },
   "outputs": [],
   "source": [
    "from plotly.graph_objs import Scatter\n",
    "import numpy as np\n",
    "\n",
    "N = 10\n",
    "random_x = np.random.randn(N)\n",
    "random_y = np.random.randn(N)\n",
    "\n",
    "# Create a trace\n",
    "trace = Scatter(\n",
    "    x = random_x,\n",
    "    y = random_y,\n",
    "    mode = 'markers'\n",
    ")\n",
    "\n",
    "data = [trace]\n",
    "\n",
    "#call our modified function to generate html\n",
    "html=new_iplot(data,show_link=False)"
   ]
  },
  {
   "cell_type": "code",
   "execution_count": 13,
   "metadata": {
    "collapsed": false
   },
   "outputs": [
    {
     "name": "stdout",
     "output_type": "stream",
     "text": [
      "<div class=\"bb03b202-5da1-4da4-8fe5-f90dfc838bbe loading\" style=\"color: rgb(50,50,50);\">\n",
      "                 Drawing...</div>\n",
      "                 <div id=\"bb03b202-5da1-4da4-8fe5-f90dfc838bbe\" style=\"height: 525; width: 100%;\" \n",
      "                 class=\"plotly-graph-div\">\n",
      "                 </div>\n",
      "                 <script type=\"text/javascript\">\n",
      "                 Plotly.plot(\"bb03b202-5da1-4da4-8fe5-f90dfc838bbe\", [{\"y\": [0.9911873318040711, -0.8729646106022118, 1.821836891443137, 0.07754671642149655, -0.48396671505725236, 1.2024273667318313, -0.6562320595893218, -1.2591301953284428, -1.9911418562002885, -0.03485012790324974], \"x\": [-1.5901231648274856, 0.02613254715607766, 0.10113028405315724, 0.4435984469100101, 0.39515719918122527, -1.8652722239664923, 0.5660972261975588, 0.9969284454158368, 0.5638210591224765, 0.1315570489898769], \"type\": \"scatter\", \"mode\": \"markers\"}], {}, {\"linkText\": \"Export to plot.ly\", \"showLink\": false}).then(function() {\n",
      "    $(\".bb03b202-5da1-4da4-8fe5-f90dfc838bbe.loading\").remove();\n",
      "})\n",
      "                 </script>\n",
      "                 \n"
     ]
    }
   ],
   "source": [
    "print html"
   ]
  },
  {
   "cell_type": "markdown",
   "metadata": {},
   "source": [
    "### Now we've got our html!\n",
    "\n",
    "All we need to do now is embed this into our html, as well as the javascript file we grabbed earlier! Now you have a plotly plot in a webpage, without going through their servers!"
   ]
  },
  {
   "cell_type": "markdown",
   "metadata": {},
   "source": [
    "## Utilizing Data Spyre "
   ]
  },
  {
   "cell_type": "markdown",
   "metadata": {},
   "source": [
    "I recently gave a talk on how to setup a data spyre server, and integrate bokeh and pygal plots into it, which can be found here:\n",
    "- https://github.com/pm8k/dataspyre_tutorial\n",
    "\n",
    "With our new plotly html, we can embed it into our data spyre app"
   ]
  },
  {
   "cell_type": "code",
   "execution_count": null,
   "metadata": {
    "collapsed": true
   },
   "outputs": [],
   "source": [
    "# import web app modules\n",
    "from spyre import server\n",
    "import cherrypy\n",
    "cherrypy.config.update({'server.socket_host': '0.0.0.0'})\n",
    "\n",
    "import os\n",
    "import pandas as pd\n",
    "import numpy as np\n",
    "\n",
    "from plotly.graph_objs import Scatter\n",
    "\n",
    "from db import DB\n",
    "\n",
    "# Here I saved the modified functions into a file called plotly_modified.py, and imported it\n",
    "import plotly_modified as pm\n",
    "\n",
    "\n",
    "##########################################################################################################\n",
    "# Data Spyre Class and Functions\n",
    "##########################################################################################################\n",
    "\n",
    "class plotly_test(server.App):\n",
    "\n",
    "    title='Plotly Test'\n",
    "\n",
    "    inputs = [  {\"type\":'text',\n",
    "                    \"label\": 'Random Input',\n",
    "                    \"key\": 'number',\n",
    "                    \"value\":'10',\n",
    "                    \"action_id\":'update_data'},\n",
    "                ]\n",
    "\n",
    "    controls = [{   \"type\" : \"hidden\",\n",
    "                    \"label\" : \"Refresh\",\n",
    "                    \"id\" : \"update_data\"}]\n",
    "\n",
    "\n",
    "    outputs = [\n",
    "                {   \"type\" : \"html\",\n",
    "                    \"id\" : \"getHTML_Plotly\",\n",
    "                    \"control_id\" : \"update_data\",\n",
    "                    \"on_page_load\" : True}]\n",
    "\n",
    "\n",
    "    ######################################################################################################\n",
    "\n",
    "    def getHTML_Plotly(self,params):\n",
    "\n",
    "        N = int(params['number'])\n",
    "        random_x = np.random.randn(N)\n",
    "        random_y = np.random.randn(N)\n",
    "\n",
    "        # Create a trace\n",
    "        trace = Scatter(\n",
    "            x = random_x,\n",
    "            y = random_y,\n",
    "            mode = 'markers'\n",
    "        )\n",
    "\n",
    "        data = [trace]\n",
    "\n",
    "        #call our modified function to generate html\n",
    "        html=pm.modified_iplot(data,show_link=False)\n",
    "        return html\n",
    "    \n",
    "    def getCustomJS(self):\n",
    "        # plotlyjs.js is the javascript file from the plotly repo\n",
    "        with open (\"plotlyjs.js\", \"r\") as myfile:\n",
    "            data=myfile.read().replace('\\n', '')\n",
    "        return data\n",
    "\n",
    "##########################################################################################################\n",
    "#define main function to create the server\n",
    "\n",
    "if __name__ == '__main__':\n",
    "    app=plotly_test()\n",
    "    app.launch(port=9092)"
   ]
  },
  {
   "cell_type": "markdown",
   "metadata": {},
   "source": [
    "There are two main compenents here to generate our plotly plot:\n",
    " - We need a function to get the html.  In this example, we generate the data using plotly's function, pass it into our iplot function, and return the html from it.\n",
    " - Similar to Bokeh, we can add custom javascript.  For this I read in the javascript file into a string, and return it.\n",
    " \n",
    "We can now launch our data spyre app, and we have data loaded in it!"
   ]
  },
  {
   "cell_type": "markdown",
   "metadata": {},
   "source": [
    "## Thanks for reading!"
   ]
  },
  {
   "cell_type": "code",
   "execution_count": null,
   "metadata": {
    "collapsed": true
   },
   "outputs": [],
   "source": []
  }
 ],
 "metadata": {
  "kernelspec": {
   "display_name": "Python 2",
   "language": "python",
   "name": "python2"
  },
  "language_info": {
   "codemirror_mode": {
    "name": "ipython",
    "version": 2
   },
   "file_extension": ".py",
   "mimetype": "text/x-python",
   "name": "python",
   "nbconvert_exporter": "python",
   "pygments_lexer": "ipython2",
   "version": "2.7.10"
  }
 },
 "nbformat": 4,
 "nbformat_minor": 0
}
